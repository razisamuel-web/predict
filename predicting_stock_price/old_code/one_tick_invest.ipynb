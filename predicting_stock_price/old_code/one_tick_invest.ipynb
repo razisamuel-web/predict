{
 "cells": [
  {
   "cell_type": "code",
   "execution_count": 36,
   "outputs": [],
   "source": [
    "from plots import plot_pred_actual\n",
    "from showing_performenc_function import *\n",
    "import pandas as pd\n",
    "import pickle\n",
    "\n",
    "\n",
    "tick_name = 'APLP'\n",
    "test_size = 0.15\n",
    "random_state_plot = 3\n",
    "\n",
    "df_reg = pd.read_csv(f'./df_regs_full_loop/df_reg_{tick_name}.csv')\n",
    "df_reg.set_index(df_reg.columns[0], inplace=True)\n",
    "pkl_filename = f'pickel_models/{tick_name}/model.pkl'\n",
    "with open(pkl_filename, 'rb') as file:\n",
    "    reg = pickle.load(file)\n"
   ],
   "metadata": {
    "collapsed": false,
    "pycharm": {
     "name": "#%%\n",
     "is_executing": false
    }
   }
  },
  {
   "cell_type": "code",
   "execution_count": null,
   "outputs": [],
   "source": [
    "df_reg_summary = generate_df_reg_summary(tick_name, reg= reg, df_reg_columns=df_reg.columns)\n"
   ],
   "metadata": {
    "collapsed": false,
    "pycharm": {
     "name": "#%%\n"
    }
   }
  },
  {
   "cell_type": "code",
   "execution_count": null,
   "outputs": [],
   "source": [
    "result_summary(tick_name)\n"
   ],
   "metadata": {
    "collapsed": false,
    "pycharm": {
     "name": "#%%\n"
    }
   }
  },
  {
   "cell_type": "code",
   "execution_count": null,
   "outputs": [],
   "source": [
    "plot_pred_actual(df_regression=df_reg,\n",
    "                 main_ticker=tick_name,\n",
    "                 reg=reg,\n",
    "                 test_size=test_size,\n",
    "                 random_state=random_state_plot)"
   ],
   "metadata": {
    "collapsed": false,
    "pycharm": {
     "name": "#%%\n"
    }
   }
  },
  {
   "cell_type": "code",
   "execution_count": null,
   "outputs": [],
   "source": [
    "clean_raw_and_weekly_mean_plot(tick_name)\n"
   ],
   "metadata": {
    "collapsed": false,
    "pycharm": {
     "name": "#%%\n"
    }
   }
  },
  {
   "cell_type": "code",
   "execution_count": null,
   "outputs": [],
   "source": [
    "correlated_ticks_plot(tick_name=tick_name,\n",
    "                      top=8,\n",
    "                      weeks_back=[5],\n",
    "                      df_reg_summary=df_reg_summary)\n"
   ],
   "metadata": {
    "collapsed": false,
    "pycharm": {
     "name": "#%% plot 5 most correlated by weeks\n"
    }
   }
  },
  {
   "cell_type": "code",
   "execution_count": 45,
   "outputs": [
    {
     "traceback": [
      "\u001b[0;31m---------------------------------------------------------------------------\u001b[0m",
      "\u001b[0;31mTypeError\u001b[0m                                 Traceback (most recent call last)",
      "\u001b[0;32m<ipython-input-45-e9ba19f958c0>\u001b[0m in \u001b[0;36m<module>\u001b[0;34m\u001b[0m\n\u001b[1;32m      1\u001b[0m daily_correlated_ticks_plot(tick_name=tick_name,\n\u001b[1;32m      2\u001b[0m                             \u001b[0mdf_reg_columns\u001b[0m\u001b[0;34m=\u001b[0m\u001b[0mdf_reg\u001b[0m\u001b[0;34m.\u001b[0m\u001b[0mcolumns\u001b[0m\u001b[0;34m,\u001b[0m\u001b[0;34m\u001b[0m\u001b[0;34m\u001b[0m\u001b[0m\n\u001b[0;32m----> 3\u001b[0;31m                             weeks_back=3)\n\u001b[0m",
      "\u001b[0;32m~/PycharmProjects/predicting_stock_price/showing_performenc_function.py\u001b[0m in \u001b[0;36mdaily_correlated_ticks_plot\u001b[0;34m(tick_name, df_reg_columns, weeks_back)\u001b[0m\n\u001b[1;32m    124\u001b[0m     \u001b[0;31m# all weeks\u001b[0m\u001b[0;34m\u001b[0m\u001b[0;34m\u001b[0m\u001b[0;34m\u001b[0m\u001b[0m\n\u001b[1;32m    125\u001b[0m     \u001b[0mdfc\u001b[0m \u001b[0;34m=\u001b[0m \u001b[0mget_data\u001b[0m\u001b[0;34m(\u001b[0m\u001b[0mticker_name\u001b[0m\u001b[0;34m=\u001b[0m\u001b[0mtick_name\u001b[0m\u001b[0;34m,\u001b[0m \u001b[0mdata_from_csv\u001b[0m\u001b[0;34m=\u001b[0m\u001b[0;36m1\u001b[0m\u001b[0;34m,\u001b[0m \u001b[0mpath_from\u001b[0m\u001b[0;34m=\u001b[0m\u001b[0;34m'data'\u001b[0m\u001b[0;34m)\u001b[0m\u001b[0;34m\u001b[0m\u001b[0;34m\u001b[0m\u001b[0m\n\u001b[0;32m--> 126\u001b[0;31m     \u001b[0mdf_predictor\u001b[0m \u001b[0;34m=\u001b[0m \u001b[0mpredictor_df_for_plot\u001b[0m\u001b[0;34m(\u001b[0m\u001b[0mdf_reg_columns\u001b[0m\u001b[0;34m=\u001b[0m\u001b[0mdf_reg_columns\u001b[0m\u001b[0;34m,\u001b[0m \u001b[0mdfc\u001b[0m\u001b[0;34m=\u001b[0m\u001b[0mdfc\u001b[0m\u001b[0;34m,\u001b[0m \u001b[0mtick_name\u001b[0m\u001b[0;34m=\u001b[0m\u001b[0mtick_name\u001b[0m\u001b[0;34m)\u001b[0m\u001b[0;34m\u001b[0m\u001b[0;34m\u001b[0m\u001b[0m\n\u001b[0m\u001b[1;32m    127\u001b[0m     \u001b[0mnormalized_df\u001b[0m \u001b[0;34m=\u001b[0m \u001b[0mtop_corrs\u001b[0m\u001b[0;34m(\u001b[0m\u001b[0mtick_name\u001b[0m\u001b[0;34m=\u001b[0m\u001b[0mtick_name\u001b[0m\u001b[0;34m,\u001b[0m \u001b[0mdf\u001b[0m\u001b[0;34m=\u001b[0m\u001b[0mdf_predictor\u001b[0m\u001b[0;34m,\u001b[0m \u001b[0mtop_x\u001b[0m\u001b[0;34m=\u001b[0m\u001b[0;36m10\u001b[0m\u001b[0;34m)\u001b[0m\u001b[0;34m\u001b[0m\u001b[0;34m\u001b[0m\u001b[0m\n\u001b[1;32m    128\u001b[0m     \u001b[0mnormalized_df\u001b[0m\u001b[0;34m.\u001b[0m\u001b[0mplot\u001b[0m\u001b[0;34m(\u001b[0m\u001b[0mstyle\u001b[0m\u001b[0;34m=\u001b[0m\u001b[0;34m'o-'\u001b[0m\u001b[0;34m,\u001b[0m \u001b[0mms\u001b[0m\u001b[0;34m=\u001b[0m\u001b[0;36m2\u001b[0m\u001b[0;34m)\u001b[0m\u001b[0;34m\u001b[0m\u001b[0;34m\u001b[0m\u001b[0m\n",
      "\u001b[0;31mTypeError\u001b[0m: predictor_df_for_plot() got an unexpected keyword argument 'df_reg_columns'"
     ],
     "ename": "TypeError",
     "evalue": "predictor_df_for_plot() got an unexpected keyword argument 'df_reg_columns'",
     "output_type": "error"
    }
   ],
   "source": [
    "daily_correlated_ticks_plot(tick_name=tick_name,\n",
    "                            df_reg_columns=df_reg.columns,\n",
    "                            weeks_back=3)"
   ],
   "metadata": {
    "collapsed": false,
    "pycharm": {
     "name": "#%% daily absolute value plot\n",
     "is_executing": false
    }
   }
  },
  {
   "cell_type": "code",
   "execution_count": null,
   "outputs": [],
   "source": [],
   "metadata": {
    "collapsed": false,
    "pycharm": {
     "name": "#%%\n"
    }
   }
  }
 ],
 "metadata": {
  "language_info": {
   "codemirror_mode": {
    "name": "ipython",
    "version": 2
   },
   "file_extension": ".py",
   "mimetype": "text/x-python",
   "name": "python",
   "nbconvert_exporter": "python",
   "pygments_lexer": "ipython2",
   "version": "2.7.6"
  },
  "kernelspec": {
   "name": "python3",
   "language": "python",
   "display_name": "Python 3"
  },
  "pycharm": {
   "stem_cell": {
    "cell_type": "raw",
    "source": [],
    "metadata": {
     "collapsed": false
    }
   }
  }
 },
 "nbformat": 4,
 "nbformat_minor": 0
}