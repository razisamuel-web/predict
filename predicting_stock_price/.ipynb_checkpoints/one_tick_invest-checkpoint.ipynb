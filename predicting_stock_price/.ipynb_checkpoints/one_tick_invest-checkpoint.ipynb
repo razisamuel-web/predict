{
 "cells": [
  {
   "cell_type": "code",
   "execution_count": 13,
   "metadata": {
    "pycharm": {
     "is_executing": false,
     "name": "#%%\n"
    }
   },
   "outputs": [],
   "source": [
    "import pandas as pd\n",
    "pd.set_option('display.max_columns', None)\n",
    "from IPython.display import display\n",
    "from plots import plot_pred_actual\n",
    "import pickle\n",
    "from data_generation import get_data\n",
    "import matplotlib.pyplot as plt\n",
    "from general_functions import create_weekly_mean, predictor_df_for_plot, top_corrs\n",
    "from datetime import timedelta\n",
    "\n",
    "df_problematic_path = './df_problematic/df_problematic_open.csv'\n",
    "df_problematic = pd.read_csv(df_problematic_path)\n",
    "\n",
    "df_results_path = './results/2020-06-14_summary.csv'\n",
    "df_results = pd.read_csv(df_results_path)\n"
   ]
  },
  {
   "cell_type": "code",
   "execution_count": 14,
   "metadata": {
    "pycharm": {
     "is_executing": false,
     "name": "#%%\n"
    }
   },
   "outputs": [],
   "source": [
    "tick_name = 'OPK'\n"
   ]
  },
  {
   "cell_type": "code",
   "execution_count": 15,
   "metadata": {
    "pycharm": {
     "is_executing": false,
     "name": "#%%\n"
    }
   },
   "outputs": [
    {
     "data": {
      "text/html": [
       "<div>\n",
       "<style scoped>\n",
       "    .dataframe tbody tr th:only-of-type {\n",
       "        vertical-align: middle;\n",
       "    }\n",
       "\n",
       "    .dataframe tbody tr th {\n",
       "        vertical-align: top;\n",
       "    }\n",
       "\n",
       "    .dataframe thead th {\n",
       "        text-align: right;\n",
       "    }\n",
       "</style>\n",
       "<table border=\"1\" class=\"dataframe\">\n",
       "  <thead>\n",
       "    <tr style=\"text-align: right;\">\n",
       "      <th></th>\n",
       "      <th>Unnamed: 0</th>\n",
       "      <th>is_low_amount_of_data</th>\n",
       "      <th>df_count</th>\n",
       "      <th>ticker_name</th>\n",
       "      <th>is_nan_non_nan_ratio_problematic</th>\n",
       "      <th>nan_count</th>\n",
       "      <th>nan_non_nan_ratio</th>\n",
       "      <th>is_exist_nan_sequence</th>\n",
       "      <th>nan_sequences_count_and_indexes</th>\n",
       "      <th>number_of_nan_sequences</th>\n",
       "      <th>mean_of_nan_sequences_count</th>\n",
       "      <th>is_decimal_point_changed</th>\n",
       "      <th>number_of_corrupted_decimal_point</th>\n",
       "      <th>decimal_point_changed_indexs</th>\n",
       "      <th>is_ticker_stopped</th>\n",
       "      <th>ticker_stopped_diff</th>\n",
       "      <th>is_ticker_data_not_changed</th>\n",
       "      <th>ticker_data_not_changed_dictionary</th>\n",
       "      <th>is_ticker_data_not_exist</th>\n",
       "    </tr>\n",
       "  </thead>\n",
       "  <tbody>\n",
       "    <tr>\n",
       "      <th>310</th>\n",
       "      <td>310</td>\n",
       "      <td>0.0</td>\n",
       "      <td>242.0</td>\n",
       "      <td>OPK</td>\n",
       "      <td>0.0</td>\n",
       "      <td>3.0</td>\n",
       "      <td>0.012397</td>\n",
       "      <td>0.0</td>\n",
       "      <td>{'index': [], 'count': []}</td>\n",
       "      <td>0.0</td>\n",
       "      <td>0.0</td>\n",
       "      <td>False</td>\n",
       "      <td>0.0</td>\n",
       "      <td>DatetimeIndex([], dtype='datetime64[ns]', name...</td>\n",
       "      <td>False</td>\n",
       "      <td>1.0</td>\n",
       "      <td>0.0</td>\n",
       "      <td>{'value': [], 'count': [], 'indexes': []}</td>\n",
       "      <td>0</td>\n",
       "    </tr>\n",
       "  </tbody>\n",
       "</table>\n",
       "</div>"
      ],
      "text/plain": [
       "     Unnamed: 0  is_low_amount_of_data  df_count ticker_name  \\\n",
       "310         310                    0.0     242.0         OPK   \n",
       "\n",
       "     is_nan_non_nan_ratio_problematic  nan_count  nan_non_nan_ratio  \\\n",
       "310                               0.0        3.0           0.012397   \n",
       "\n",
       "     is_exist_nan_sequence nan_sequences_count_and_indexes  \\\n",
       "310                    0.0      {'index': [], 'count': []}   \n",
       "\n",
       "     number_of_nan_sequences  mean_of_nan_sequences_count  \\\n",
       "310                      0.0                          0.0   \n",
       "\n",
       "    is_decimal_point_changed  number_of_corrupted_decimal_point  \\\n",
       "310                    False                                0.0   \n",
       "\n",
       "                          decimal_point_changed_indexs is_ticker_stopped  \\\n",
       "310  DatetimeIndex([], dtype='datetime64[ns]', name...             False   \n",
       "\n",
       "     ticker_stopped_diff  is_ticker_data_not_changed  \\\n",
       "310                  1.0                         0.0   \n",
       "\n",
       "            ticker_data_not_changed_dictionary  is_ticker_data_not_exist  \n",
       "310  {'value': [], 'count': [], 'indexes': []}                         0  "
      ]
     },
     "metadata": {},
     "output_type": "display_data"
    }
   ],
   "source": [
    "df_problematic_tick_properties_df = df_problematic[df_problematic['ticker_name'] == tick_name]\n",
    "display(df_problematic_tick_properties_df)\n"
   ]
  },
  {
   "cell_type": "code",
   "execution_count": 16,
   "metadata": {
    "pycharm": {
     "name": "#%%\n"
    }
   },
   "outputs": [
    {
     "data": {
      "text/html": [
       "<div>\n",
       "<style scoped>\n",
       "    .dataframe tbody tr th:only-of-type {\n",
       "        vertical-align: middle;\n",
       "    }\n",
       "\n",
       "    .dataframe tbody tr th {\n",
       "        vertical-align: top;\n",
       "    }\n",
       "\n",
       "    .dataframe thead th {\n",
       "        text-align: right;\n",
       "    }\n",
       "</style>\n",
       "<table border=\"1\" class=\"dataframe\">\n",
       "  <thead>\n",
       "    <tr style=\"text-align: right;\">\n",
       "      <th></th>\n",
       "      <th>Unnamed: 0</th>\n",
       "      <th>ticker_name</th>\n",
       "      <th>df_reg_time</th>\n",
       "      <th>df_reg_inter_time</th>\n",
       "      <th>train_time</th>\n",
       "      <th>predict_time</th>\n",
       "      <th>full_train_time</th>\n",
       "      <th>save_results_time</th>\n",
       "      <th>years_back</th>\n",
       "      <th>df_raw_shape</th>\n",
       "      <th>df_clean_shape</th>\n",
       "      <th>df_feacheng_shape</th>\n",
       "      <th>df_dailydiff_shape</th>\n",
       "      <th>df_weeklydiff_shape</th>\n",
       "      <th>threshold_days_in_week</th>\n",
       "      <th>df_corr_shape</th>\n",
       "      <th>min_prcnt_data</th>\n",
       "      <th>df_reg_shape</th>\n",
       "      <th>predictors_number</th>\n",
       "      <th>corrs_mean</th>\n",
       "      <th>corr_threshold</th>\n",
       "      <th>corr_inter_threshold</th>\n",
       "      <th>number_of_inter</th>\n",
       "      <th>min_days_in_week_threshold</th>\n",
       "      <th>low_week_samples_dict</th>\n",
       "      <th>test_size</th>\n",
       "      <th>X_train_shape</th>\n",
       "      <th>X_test_shape</th>\n",
       "      <th>rmse_train</th>\n",
       "      <th>rmse_train_full_train</th>\n",
       "      <th>r2_train</th>\n",
       "      <th>r2_train_full_train</th>\n",
       "      <th>rmse_test</th>\n",
       "      <th>r2_test</th>\n",
       "      <th>r2_ad_nps_train</th>\n",
       "      <th>r2_ad_nps_test</th>\n",
       "      <th>alpha</th>\n",
       "      <th>alpha_full_train</th>\n",
       "      <th>given_date</th>\n",
       "      <th>exist_date_reference</th>\n",
       "      <th>last_close_price</th>\n",
       "      <th>predicted_diff</th>\n",
       "      <th>predicted_diff_full_train</th>\n",
       "      <th>next_week_price</th>\n",
       "      <th>next_week_price_full_train_</th>\n",
       "      <th>percentage_change</th>\n",
       "      <th>percentage_change_full_train</th>\n",
       "    </tr>\n",
       "  </thead>\n",
       "  <tbody>\n",
       "    <tr>\n",
       "      <th>67</th>\n",
       "      <td>254</td>\n",
       "      <td>OPK</td>\n",
       "      <td>7.4</td>\n",
       "      <td>0.0</td>\n",
       "      <td>0.0</td>\n",
       "      <td>0.0</td>\n",
       "      <td>0.0</td>\n",
       "      <td>0.000148</td>\n",
       "      <td>1</td>\n",
       "      <td>(242, 7)</td>\n",
       "      <td>(242, 7)</td>\n",
       "      <td>(242, 7)</td>\n",
       "      <td>(242, 1)</td>\n",
       "      <td>(53, 4)</td>\n",
       "      <td>1</td>\n",
       "      <td>(359, 3)</td>\n",
       "      <td>0.8</td>\n",
       "      <td>(52, 7)</td>\n",
       "      <td>7</td>\n",
       "      <td>0.38</td>\n",
       "      <td>0.32</td>\n",
       "      <td>0.65</td>\n",
       "      <td>0</td>\n",
       "      <td>1</td>\n",
       "      <td>{}</td>\n",
       "      <td>0.15</td>\n",
       "      <td>44</td>\n",
       "      <td>8</td>\n",
       "      <td>11.256908</td>\n",
       "      <td>10.77</td>\n",
       "      <td>0.489163</td>\n",
       "      <td>0.4988</td>\n",
       "      <td>7.905286</td>\n",
       "      <td>0.506667</td>\n",
       "      <td>0.431114</td>\n",
       "      <td>0.198334</td>\n",
       "      <td>1.0</td>\n",
       "      <td>1.0</td>\n",
       "      <td>2020-06-26</td>\n",
       "      <td>2020-06-25</td>\n",
       "      <td>906.799988</td>\n",
       "      <td>13.08526</td>\n",
       "      <td>13.2519</td>\n",
       "      <td>919.8852</td>\n",
       "      <td>920.0519</td>\n",
       "      <td>0.0144</td>\n",
       "      <td>0.0146</td>\n",
       "    </tr>\n",
       "  </tbody>\n",
       "</table>\n",
       "</div>"
      ],
      "text/plain": [
       "    Unnamed: 0 ticker_name  df_reg_time  df_reg_inter_time  train_time  \\\n",
       "67         254         OPK          7.4                0.0         0.0   \n",
       "\n",
       "    predict_time  full_train_time  save_results_time  years_back df_raw_shape  \\\n",
       "67           0.0              0.0           0.000148           1     (242, 7)   \n",
       "\n",
       "   df_clean_shape df_feacheng_shape df_dailydiff_shape df_weeklydiff_shape  \\\n",
       "67       (242, 7)          (242, 7)           (242, 1)             (53, 4)   \n",
       "\n",
       "    threshold_days_in_week df_corr_shape  min_prcnt_data df_reg_shape  \\\n",
       "67                       1      (359, 3)             0.8      (52, 7)   \n",
       "\n",
       "    predictors_number  corrs_mean  corr_threshold  corr_inter_threshold  \\\n",
       "67                  7        0.38            0.32                  0.65   \n",
       "\n",
       "    number_of_inter  min_days_in_week_threshold low_week_samples_dict  \\\n",
       "67                0                           1                    {}   \n",
       "\n",
       "    test_size  X_train_shape  X_test_shape  rmse_train  rmse_train_full_train  \\\n",
       "67       0.15             44             8   11.256908                  10.77   \n",
       "\n",
       "    r2_train  r2_train_full_train  rmse_test   r2_test  r2_ad_nps_train  \\\n",
       "67  0.489163               0.4988   7.905286  0.506667         0.431114   \n",
       "\n",
       "    r2_ad_nps_test  alpha  alpha_full_train  given_date exist_date_reference  \\\n",
       "67        0.198334    1.0               1.0  2020-06-26           2020-06-25   \n",
       "\n",
       "    last_close_price  predicted_diff  predicted_diff_full_train  \\\n",
       "67        906.799988        13.08526                    13.2519   \n",
       "\n",
       "    next_week_price  next_week_price_full_train_  percentage_change  \\\n",
       "67         919.8852                     920.0519             0.0144   \n",
       "\n",
       "    percentage_change_full_train  \n",
       "67                        0.0146  "
      ]
     },
     "metadata": {},
     "output_type": "display_data"
    }
   ],
   "source": [
    "df_tick_results = df_results[df_results['ticker_name'] == tick_name]\n",
    "display(df_tick_results)\n"
   ]
  },
  {
   "cell_type": "code",
   "execution_count": null,
   "metadata": {
    "pycharm": {
     "name": "#%%\n"
    }
   },
   "outputs": [],
   "source": [
    "df_reg = pd.read_csv(f'./df_regs_full_loop/df_reg_{tick_name}.csv')\n",
    "df_reg.set_index(df_reg.columns[0], inplace=True)\n",
    "pkl_filename = f'pickel_models/{tick_name}/model.pkl'\n",
    "with open(pkl_filename, 'rb') as file:\n",
    "    reg = pickle.load(file)\n",
    "df_reg.columns\n"
   ]
  },
  {
   "cell_type": "code",
   "execution_count": null,
   "metadata": {
    "pycharm": {
     "name": "#%%\n"
    }
   },
   "outputs": [],
   "source": [
    "model_1_features = [i for i in df_reg.columns if 'main' not in i]\n",
    "coef_dict = {}\n",
    "coef_dict['coef_name'], coef_dict['coef_value'] = [], []\n",
    "for coef, feat in zip(reg.coef_, model_1_features):\n",
    "    coef_dict['coef_name'].append(feat)\n",
    "    coef_dict['coef_value'].append(coef)\n"
   ]
  },
  {
   "cell_type": "code",
   "execution_count": null,
   "metadata": {
    "pycharm": {
     "name": "#%%\n"
    }
   },
   "outputs": [],
   "source": [
    "coef_df = pd.DataFrame(coef_dict)\n"
   ]
  },
  {
   "cell_type": "code",
   "execution_count": null,
   "metadata": {
    "pycharm": {
     "name": "#%%\n"
    }
   },
   "outputs": [],
   "source": [
    "a_file = open(f\"./df_trained_filtered_dict/{tick_name}.pkl\", \"rb\")\n",
    "output = pickle.load(a_file)\n",
    "y_train = output['y_train']\n",
    "x_train = output['x_train']\n"
   ]
  },
  {
   "cell_type": "code",
   "execution_count": null,
   "metadata": {
    "pycharm": {
     "name": "#%%\n"
    }
   },
   "outputs": [],
   "source": [
    "# TODO plot the diffs in percentages\n",
    "test_size = 0.15\n",
    "random_state_plot = 3\n",
    "plot_pred_actual(df_regression=df_reg,\n",
    "                 main_ticker=tick_name,\n",
    "                 reg=reg,\n",
    "                 test_size=test_size,\n",
    "                 random_state=random_state_plot)\n"
   ]
  },
  {
   "cell_type": "code",
   "execution_count": null,
   "metadata": {
    "pycharm": {
     "name": "#%%\n"
    }
   },
   "outputs": [],
   "source": [
    "dfr = get_data(ticker_name=tick_name, data_from_csv=1, path_from='raw_data')\n",
    "dfc = get_data(ticker_name=tick_name, data_from_csv=1, path_from='data')\n",
    "dfc = create_weekly_mean(dfc)\n",
    "\n",
    "dfp = dfc[['close', 'weekly_mean']]\n",
    "\n",
    "dfp.plot(style='o-', ms=2)\n",
    "plt.show()\n"
   ]
  },
  {
   "cell_type": "code",
   "execution_count": null,
   "metadata": {
    "pycharm": {
     "name": "#%%\n"
    }
   },
   "outputs": [],
   "source": [
    "max_date = max(dfp.index)\n",
    "max_date_lower = max_date - timedelta(weeks=4)\n",
    "dfp_last = dfp.loc[max_date_lower:max_date, :]\n",
    "dfp_last.plot(style='o-', ms=2)\n",
    "plt.show()\n"
   ]
  },
  {
   "cell_type": "code",
   "execution_count": null,
   "metadata": {
    "pycharm": {
     "name": "#%%\n"
    }
   },
   "outputs": [],
   "source": [
    "from regressors import stats, plots\n",
    "\n",
    "df_reg_summary = stats.summary(reg, x_train, y_train)\n",
    "coefs_names = [i.replace('.TA_weekly_mean_diff', '') for i in df_reg.columns]\n",
    "coefs_names = ['intercept'] + coefs_names[1:]\n",
    "df_reg_summary.index = coefs_names\n"
   ]
  },
  {
   "cell_type": "code",
   "execution_count": null,
   "metadata": {
    "pycharm": {
     "name": "#%% plot 5 most correlated\n"
    }
   },
   "outputs": [],
   "source": [
    "top = 5\n",
    "\n",
    "df_reg_plot = df_reg[:]\n",
    "df_reg_plot.columns = [i.replace('.TA_weekly_mean_diff', '') for i in df_reg.columns]\n",
    "df_reg_plot = (df_reg_plot - df_reg_plot.mean()) / df_reg_plot.std()\n",
    "\n",
    "main_column = [i for i in df_reg_plot.columns if 'main' in i]\n",
    "corrs_df_reg = [float(i[len(i) - 3: len(i)]) for i in df_reg_plot.columns if 'main' not in i]\n",
    "\n",
    "X = df_reg_plot.columns[1:]\n",
    "Y = corrs_df_reg\n",
    "Z = [x for _, x in sorted(zip(Y, X))][::-1]\n",
    "Z = main_column + Z[0:top + 1]\n",
    "df_reg_plot_ordered = df_reg_plot[Z]\n",
    "df_reg_plot_ordered.plot(style='o-', ms=3, )\n",
    "plt.legend(loc=2, fontsize='x-small')\n",
    "plt.show()\n",
    "\n",
    "\n"
   ]
  },
  {
   "cell_type": "code",
   "execution_count": null,
   "metadata": {
    "pycharm": {
     "name": "#%% plot top 5 correlated of last n weeks\n"
    }
   },
   "outputs": [],
   "source": [
    "n = df_reg.shape[0]\n",
    "df_reg_plot_ordered_last_weeks = df_reg_plot_ordered.iloc[n - 5:n, :]\n",
    "df_reg_plot_ordered_last_weeks.plot(style='o-', ms=3, )\n",
    "plt.legend(loc=2, fontsize='x-small')\n",
    "plt.show()\n",
    "\n"
   ]
  },
  {
   "cell_type": "code",
   "execution_count": null,
   "metadata": {
    "pycharm": {
     "name": "#%% daily absolute value plot\n"
    }
   },
   "outputs": [],
   "source": [
    "df_predictor = predictor_df_for_plot(df_reg=df_reg, dfc=dfc, tick_name=tick_name)\n",
    "# TODO THERE IS ONLY POSITIVE CORRS' ITS NOT MAKE ANY SENSE\n",
    "normalized_df = top_corrs(tick_name=tick_name, df=df_predictor, top_x=10)\n",
    "normalized_df.columns\n",
    "normalized_df.plot(style='o-', ms=2)\n",
    "plt.legend(loc=2, fontsize='x-small')\n",
    "plt.show()\n",
    "\n"
   ]
  },
  {
   "cell_type": "code",
   "execution_count": null,
   "metadata": {
    "pycharm": {
     "name": "#%% daily absolute value plot of last weeks\n"
    }
   },
   "outputs": [],
   "source": [
    "weeks_back = 2\n",
    "max_date = max(normalized_df.index)\n",
    "max_date_lower = max_date - timedelta(weeks=weeks_back)\n",
    "dfp_last = normalized_df.loc[max_date_lower:max_date, :]\n",
    "dfp_last.plot(style='o-', ms=3, )\n",
    "plt.legend(loc=2, fontsize='x-small')\n",
    "plt.show()\n",
    "\n"
   ]
  },
  {
   "cell_type": "code",
   "execution_count": null,
   "metadata": {
    "pycharm": {
     "name": "#%% plot top p_values\n"
    }
   },
   "outputs": [],
   "source": [
    "\n",
    "df_reg_summary.index + '_B_' + df_reg_summary['Estimate'].round(2).astype(str) + '_p_value_' + df_reg_summary[\n",
    "    'p value'].round(2).astype(str)\n"
   ]
  }
 ],
 "metadata": {
  "kernelspec": {
   "display_name": "Python 3",
   "language": "python",
   "name": "python3"
  },
  "language_info": {
   "codemirror_mode": {
    "name": "ipython",
    "version": 3
   },
   "file_extension": ".py",
   "mimetype": "text/x-python",
   "name": "python",
   "nbconvert_exporter": "python",
   "pygments_lexer": "ipython3",
   "version": "3.7.3"
  },
  "pycharm": {
   "stem_cell": {
    "cell_type": "raw",
    "metadata": {
     "collapsed": false
    },
    "source": []
   }
  }
 },
 "nbformat": 4,
 "nbformat_minor": 1
}
